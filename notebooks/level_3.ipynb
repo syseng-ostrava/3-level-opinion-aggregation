{
 "cells": [
  {
   "cell_type": "markdown",
   "metadata": {
    "pycharm": {
     "name": "#%% md\n"
    }
   },
   "source": [
    "# Inter-group aggregation using Choquet integral"
   ]
  },
  {
   "cell_type": "code",
   "execution_count": 1,
   "metadata": {
    "pycharm": {
     "name": "#%%\n"
    }
   },
   "outputs": [],
   "source": [
    "import numpy"
   ]
  },
  {
   "cell_type": "markdown",
   "metadata": {
    "pycharm": {
     "name": "#%% md\n"
    }
   },
   "source": [
    "## Definition of coalition relevances\n",
    "\n",
    "This tells us how relevant each coalition of different groups is when making a decision.\n",
    "In our example, we consider the opinion of 5 groups:\n",
    "\n",
    "- R - residents\n",
    "- N - non-residents/commuters\n",
    "- A - architects\n",
    "- E - ecological experts and activists\n",
    "- C - companies\n",
    "\n",
    "These are arbitrary relevances. Feel free to change, if the values don't make sense to you"
   ]
  },
  {
   "cell_type": "code",
   "execution_count": 2,
   "metadata": {
    "collapsed": true,
    "pycharm": {
     "name": "#%%\n"
    }
   },
   "outputs": [],
   "source": [
    "COALITION_RELEVANCES = {\n",
    "    frozenset({'R', 'N', 'A', 'E', 'C'}): 1.0,\n",
    "    frozenset({'R', 'N', 'A', 'E'}): 0.9,\n",
    "    frozenset({'R', 'N', 'A', 'C'}): 0.8,\n",
    "    frozenset({'R', 'N', 'E', 'C'}): 0.8,\n",
    "    frozenset({'R', 'A', 'E', 'C'}): 0.85,\n",
    "    frozenset({'N', 'A', 'E', 'C'}): 0.7,\n",
    "    frozenset({'R', 'N', 'A'}): 0.65,\n",
    "    frozenset({'R', 'N', 'E'}): 0.75,\n",
    "    frozenset({'R', 'N', 'C'}): 0.65,\n",
    "    frozenset({'R', 'A', 'E'}): 0.7,\n",
    "    frozenset({'R', 'A', 'C'}): 0.65,\n",
    "    frozenset({'R', 'E', 'C'}): 0.7,\n",
    "    frozenset({'N', 'A', 'E'}): 0.55,\n",
    "    frozenset({'N', 'A', 'C'}): 0.55,\n",
    "    frozenset({'N', 'E', 'C'}): 0.55,\n",
    "    frozenset({'A', 'E', 'C'}): 0.5,\n",
    "    frozenset({'R', 'N'}): 0.6,\n",
    "    frozenset({'R', 'A'}): 0.55,\n",
    "    frozenset({'R', 'E'}): 0.65,\n",
    "    frozenset({'R', 'C'}): 0.6,\n",
    "    frozenset({'N', 'A'}): 0.45,\n",
    "    frozenset({'N', 'E'}): 0.5,\n",
    "    frozenset({'N', 'C'}): 0.45,\n",
    "    frozenset({'A', 'E'}): 0.45,\n",
    "    frozenset({'A', 'C'}): 0.4,\n",
    "    frozenset({'E', 'C'}): 0.45,\n",
    "    frozenset({'R'}): 0.5,\n",
    "    frozenset({'N'}): 0.4,\n",
    "    frozenset({'A'}): 0.3,\n",
    "    frozenset({'E'}): 0.4,\n",
    "    frozenset({'C'}): 0.3,\n",
    "    frozenset(): 0\n",
    "}\n",
    "\n",
    "FULL_SET = numpy.array(['R', 'N', 'A', 'E', 'C'])"
   ]
  },
  {
   "cell_type": "markdown",
   "metadata": {
    "pycharm": {
     "name": "#%% md\n"
    }
   },
   "source": [
    "These are results from previous analysis. Each number tell us the conformity (possibility) of the\n",
    "statement \"Most respondents have a positive/negative opinion\" in each respondent group:"
   ]
  },
  {
   "cell_type": "code",
   "execution_count": 3,
   "metadata": {
    "pycharm": {
     "name": "#%%\n"
    }
   },
   "outputs": [],
   "source": [
    "# Order: R, N, A, E, C\n",
    "MOSTLY_POSITIVE = [0, 0, 0, 0, 0.63]\n",
    "MOSTLY_NEGATIVE = [0.6, 0.68, 0.3, 0.84, 0.63]"
   ]
  },
  {
   "cell_type": "markdown",
   "metadata": {
    "pycharm": {
     "name": "#%% md\n"
    }
   },
   "source": [
    "## Implementation of the Choquet interval"
   ]
  },
  {
   "cell_type": "code",
   "execution_count": 4,
   "metadata": {
    "pycharm": {
     "name": "#%%\n"
    }
   },
   "outputs": [],
   "source": [
    "def choquet_integral(vals, relevances):\n",
    "    vals = numpy.array(vals)\n",
    "    sorted_indices = numpy.argsort(vals)\n",
    "    sorted_values = vals[sorted_indices]\n",
    "    t = list(range(0, len(vals)))\n",
    "    s = 0.0\n",
    "    for i in range(len(vals)):\n",
    "        coalition_relevance = relevances[frozenset(FULL_SET[t])]\n",
    "        s += (sorted_values[i]  - (sorted_values[i - 1] if i > 0 else 0)) * coalition_relevance\n",
    "        t.remove(sorted_indices[i])\n",
    "    return s"
   ]
  },
  {
   "cell_type": "markdown",
   "metadata": {
    "pycharm": {
     "name": "#%% md\n"
    }
   },
   "source": [
    "## Aggregation\n",
    "\n",
    "We use Chocquet intergral to aggregate the possibility (degree of conformity) of the proposition\n",
    "\"Most respondents have positive/negative opinion\" across different groups. This gives us one\n",
    "number describing the survey results:"
   ]
  },
  {
   "cell_type": "code",
   "execution_count": 5,
   "metadata": {
    "pycharm": {
     "name": "#%%\n"
    }
   },
   "outputs": [],
   "source": [
    "choquet_positive = choquet_integral(MOSTLY_POSITIVE, COALITION_RELEVANCES)\n",
    "choquet_negative = choquet_integral(MOSTLY_NEGATIVE, COALITION_RELEVANCES)"
   ]
  },
  {
   "cell_type": "code",
   "execution_count": 6,
   "metadata": {
    "pycharm": {
     "name": "#%%\n"
    }
   },
   "outputs": [
    {
     "name": "stdout",
     "output_type": "stream",
     "text": [
      "Choquet \"Most respondents have positive opinion\": 0.19\n",
      "Choquet \"Most respondents have negative opinion\": 0.65\n"
     ]
    }
   ],
   "source": [
    "print('Choquet \"Most respondents have positive opinion\": %.2f' % choquet_positive)\n",
    "print('Choquet \"Most respondents have negative opinion\": %.2f' % choquet_negative)"
   ]
  }
 ],
 "metadata": {
  "kernelspec": {
   "display_name": "Python 3",
   "language": "python",
   "name": "python3"
  },
  "language_info": {
   "codemirror_mode": {
    "name": "ipython",
    "version": 3
   },
   "file_extension": ".py",
   "mimetype": "text/x-python",
   "name": "python",
   "nbconvert_exporter": "python",
   "pygments_lexer": "ipython3",
   "version": "3.7.9"
  }
 },
 "nbformat": 4,
 "nbformat_minor": 1
}